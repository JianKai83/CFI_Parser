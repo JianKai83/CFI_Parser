{
 "cells": [
  {
   "cell_type": "code",
   "execution_count": 1,
   "id": "70741b16",
   "metadata": {
    "ExecuteTime": {
     "end_time": "2021-10-29T15:19:01.776067Z",
     "start_time": "2021-10-29T15:19:01.254631Z"
    }
   },
   "outputs": [],
   "source": [
    "import pandas as pd\n",
    "import requests\n",
    "from bs4 import BeautifulSoup\n",
    "import json"
   ]
  },
  {
   "cell_type": "code",
   "execution_count": 2,
   "id": "3b615f76",
   "metadata": {
    "ExecuteTime": {
     "end_time": "2021-10-29T15:19:08.092275Z",
     "start_time": "2021-10-29T15:19:08.074678Z"
    }
   },
   "outputs": [],
   "source": [
    "headers = {'User_Agent': 'Mozilla/5.0 (Windows NT 10.0; Win64; x64) AppleWebKit/537.36 (KHTML, like Gecko) Chrome/94.0.4606.71 Safari/537.36'}\n",
    "url = 'https://www.104.com.tw/jobs/search/?ro=0&keyword=資料分析師&page=2'"
   ]
  },
  {
   "cell_type": "code",
   "execution_count": 3,
   "id": "769023dc",
   "metadata": {
    "ExecuteTime": {
     "end_time": "2021-10-29T15:19:15.338608Z",
     "start_time": "2021-10-29T15:19:13.961930Z"
    }
   },
   "outputs": [],
   "source": [
    "ss = requests.session()\n",
    "res = ss.get(url, headers=headers)\n",
    "soup = BeautifulSoup(res.text,'html.parser')"
   ]
  },
  {
   "cell_type": "markdown",
   "id": "a2d19c3f",
   "metadata": {},
   "source": [
    "# 取得公司名稱"
   ]
  },
  {
   "cell_type": "code",
   "execution_count": 4,
   "id": "f2f23e4a",
   "metadata": {
    "ExecuteTime": {
     "end_time": "2021-10-29T15:19:21.150946Z",
     "start_time": "2021-10-29T15:19:21.132864Z"
    }
   },
   "outputs": [],
   "source": [
    "#可以想像成把各家公司名稱存成 list\n",
    "company = soup.select('div[class=\"b-block__left\"] ul[class=\"b-list-inline b-clearfix\"] li a')"
   ]
  },
  {
   "cell_type": "code",
   "execution_count": 5,
   "id": "e7ea4195",
   "metadata": {
    "ExecuteTime": {
     "end_time": "2021-10-29T15:19:28.028160Z",
     "start_time": "2021-10-29T15:19:28.018138Z"
    }
   },
   "outputs": [
    {
     "name": "stdout",
     "output_type": "stream",
     "text": [
      "安布思沛行銷股份有限公司\n",
      "                    \n"
     ]
    }
   ],
   "source": [
    "#第0家公司的名稱\n",
    "print(company[0].text)"
   ]
  },
  {
   "cell_type": "markdown",
   "id": "3a1e7cf5",
   "metadata": {},
   "source": [
    "# 取得職缺名稱"
   ]
  },
  {
   "cell_type": "code",
   "execution_count": 6,
   "id": "0e754e24",
   "metadata": {
    "ExecuteTime": {
     "end_time": "2021-10-29T15:19:36.894220Z",
     "start_time": "2021-10-29T15:19:36.878173Z"
    }
   },
   "outputs": [],
   "source": [
    "title = soup.select('div[class=\"b-block__left\"] h2[class=\"b-tit\"] a')"
   ]
  },
  {
   "cell_type": "code",
   "execution_count": 7,
   "id": "c61bd150",
   "metadata": {
    "ExecuteTime": {
     "end_time": "2021-10-29T15:19:42.155883Z",
     "start_time": "2021-10-29T15:19:42.137932Z"
    }
   },
   "outputs": [
    {
     "name": "stdout",
     "output_type": "stream",
     "text": [
      "數據分析師/ Data Analyst(CRO CDP)\n"
     ]
    }
   ],
   "source": [
    "print(title[0].text)"
   ]
  },
  {
   "cell_type": "markdown",
   "id": "06743c01",
   "metadata": {},
   "source": [
    "# 取得指定公司職缺介紹網址"
   ]
  },
  {
   "cell_type": "code",
   "execution_count": 8,
   "id": "fcf8b3d3",
   "metadata": {
    "ExecuteTime": {
     "end_time": "2021-10-29T15:19:49.224700Z",
     "start_time": "2021-10-29T15:19:49.212751Z"
    }
   },
   "outputs": [
    {
     "name": "stdout",
     "output_type": "stream",
     "text": [
      "//www.104.com.tw/job/7czsy?jobsource=jolist_b_relevance\n"
     ]
    }
   ],
   "source": [
    "#取得第0家公司職缺的介紹連結\n",
    "print(title[0]['href'])"
   ]
  },
  {
   "cell_type": "markdown",
   "id": "85f7bfe6",
   "metadata": {},
   "source": [
    "# 取得能會傳內容的真實網址，AJAX"
   ]
  },
  {
   "cell_type": "code",
   "execution_count": 9,
   "id": "0c60df2d",
   "metadata": {
    "ExecuteTime": {
     "end_time": "2021-10-29T15:21:29.250795Z",
     "start_time": "2021-10-29T15:21:29.237293Z"
    }
   },
   "outputs": [],
   "source": [
    "#取得隱藏碼\n",
    "#觀察 Fetch/XHR\n",
    "hidden_code = title[0]['href'].split('job/')[1].split('?')[0]"
   ]
  },
  {
   "cell_type": "code",
   "execution_count": 10,
   "id": "82c621f0",
   "metadata": {
    "ExecuteTime": {
     "end_time": "2021-10-29T15:21:40.025158Z",
     "start_time": "2021-10-29T15:21:40.009202Z"
    }
   },
   "outputs": [
    {
     "name": "stdout",
     "output_type": "stream",
     "text": [
      "7czsy\n"
     ]
    }
   ],
   "source": [
    "print(hidden_code)"
   ]
  },
  {
   "cell_type": "code",
   "execution_count": 11,
   "id": "7c525324",
   "metadata": {
    "ExecuteTime": {
     "end_time": "2021-10-29T15:22:35.745824Z",
     "start_time": "2021-10-29T15:22:35.740814Z"
    }
   },
   "outputs": [],
   "source": [
    "#取得真實網址\n",
    "real_articleUrl = 'https://www.104.com.tw/job/ajax/content/' + hidden_code"
   ]
  },
  {
   "cell_type": "code",
   "execution_count": 12,
   "id": "af9f7697",
   "metadata": {
    "ExecuteTime": {
     "end_time": "2021-10-29T15:22:42.163340Z",
     "start_time": "2021-10-29T15:22:42.145389Z"
    }
   },
   "outputs": [
    {
     "name": "stdout",
     "output_type": "stream",
     "text": [
      "https://www.104.com.tw/job/ajax/content/7czsy\n"
     ]
    }
   ],
   "source": [
    "print(real_articleUrl)"
   ]
  },
  {
   "cell_type": "markdown",
   "id": "499c5555",
   "metadata": {},
   "source": [
    "# 正是解析真實職缺網址"
   ]
  },
  {
   "cell_type": "code",
   "execution_count": 13,
   "id": "d4723f56",
   "metadata": {
    "ExecuteTime": {
     "end_time": "2021-10-29T15:22:49.873230Z",
     "start_time": "2021-10-29T15:22:49.740312Z"
    }
   },
   "outputs": [],
   "source": [
    "real_headers = {'Referer': 'https://www.104.com.tw/job/' + hidden_code,\n",
    "           'User_Agent': 'Mozilla/5.0 (Windows NT 10.0; Win64; x64) AppleWebKit/537.36 (KHTML, like Gecko) Chrome/94.0.4606.71 Safari/537.36',\n",
    "          }\n",
    "real_resArticle = requests.get(real_articleUrl, headers=real_headers)"
   ]
  },
  {
   "cell_type": "code",
   "execution_count": 14,
   "id": "903dc939",
   "metadata": {
    "ExecuteTime": {
     "end_time": "2021-10-29T15:23:13.951496Z",
     "start_time": "2021-10-29T15:23:13.942576Z"
    }
   },
   "outputs": [],
   "source": [
    "#這是json格式的\n",
    "all_content = json.loads(real_resArticle.text)"
   ]
  },
  {
   "cell_type": "code",
   "execution_count": 15,
   "id": "4bbc71f5",
   "metadata": {
    "ExecuteTime": {
     "end_time": "2021-10-29T15:23:19.969388Z",
     "start_time": "2021-10-29T15:23:19.954721Z"
    },
    "collapsed": true
   },
   "outputs": [
    {
     "name": "stdout",
     "output_type": "stream",
     "text": [
      "{'data': {'corpImageRight': {'corpImageRight': {'imageUrl': '', 'link': ''}}, 'header': {'corpImageTop': {'imageUrl': '', 'link': ''}, 'jobName': '數據分析師/ Data Analyst(CRO CDP)', 'appearDate': '2021/09/29', 'custName': '安布思沛行銷股份有限公司', 'custUrl': 'https://www.104.com.tw/company/1a2x6biool', 'applyDate': '', 'analysisType': 1, 'analysisUrl': '//www.104.com.tw/jobs/apply/analysis/7czsy', 'isSaved': False, 'isApplied': False}, 'contact': {'hrName': 'Jay Chung', 'email': 'john.ku@iprospect.com,Rong.Teng@iprospect.com,Vera.Lo@iprospect.com,Corn.Guo@iprospect.com,jay.chung@dentsu.com', 'visit': '', 'phone': '', 'other': '煩請務必同步至如下連結應徵將優先收取履歷，謝謝!\\nhttps://dentsuaegis.wd3.myworkdayjobs.com/DAN_GLOBAL/job/Taipei/Data-Analyst---CRO-CDP_R0960648', 'reply': '', 'suggestExam': False}, 'environmentPic': {'environmentPic': [{'thumbnailLink': 'https://static.104.com.tw/b_profile/cust_picture/2885/130000000032885/env/s_962627717425726536.jpg?v=20210805195043', 'link': 'https://static.104.com.tw/b_profile/cust_picture/2885/130000000032885/env/l_962627717425726536.jpg?v=20210805195043', 'description': ''}, {'thumbnailLink': 'https://static.104.com.tw/b_profile/cust_picture/2885/130000000032885/env/s_890328564412224931.jpg?v=20210805195043', 'link': 'https://static.104.com.tw/b_profile/cust_picture/2885/130000000032885/env/l_890328564412224931.jpg?v=20210805195043', 'description': ''}, {'thumbnailLink': 'https://static.104.com.tw/b_profile/cust_picture/2885/130000000032885/env/s_890328564412224932.jpg?v=20210805195043', 'link': 'https://static.104.com.tw/b_profile/cust_picture/2885/130000000032885/env/l_890328564412224932.jpg?v=20210805195043', 'description': ''}, {'thumbnailLink': 'https://static.104.com.tw/b_profile/cust_picture/2885/130000000032885/env/s_962627717425726537.jpg?v=20210805195043', 'link': 'https://static.104.com.tw/b_profile/cust_picture/2885/130000000032885/env/l_962627717425726537.jpg?v=20210805195043', 'description': ''}, {'thumbnailLink': 'https://static.104.com.tw/b_profile/cust_picture/2885/130000000032885/env/s_962627717425726538.jpg?v=20210805195043', 'link': 'https://static.104.com.tw/b_profile/cust_picture/2885/130000000032885/env/l_962627717425726538.jpg?v=20210805195043', 'description': ''}, {'thumbnailLink': 'https://static.104.com.tw/b_profile/cust_picture/2885/130000000032885/env/s_890328564412224933.jpg?v=20210805195043', 'link': 'https://static.104.com.tw/b_profile/cust_picture/2885/130000000032885/env/l_890328564412224933.jpg?v=20210805195043', 'description': ''}, {'thumbnailLink': 'https://static.104.com.tw/b_profile/cust_picture/2885/130000000032885/env/s_890328564412224934.jpg?v=20210805195043', 'link': 'https://static.104.com.tw/b_profile/cust_picture/2885/130000000032885/env/l_890328564412224934.jpg?v=20210805195043', 'description': ''}, {'thumbnailLink': 'https://static.104.com.tw/b_profile/cust_picture/2885/130000000032885/env/s_890328564412224935.jpg?v=20210805195043', 'link': 'https://static.104.com.tw/b_profile/cust_picture/2885/130000000032885/env/l_890328564412224935.jpg?v=20210805195043', 'description': ''}, {'thumbnailLink': 'https://static.104.com.tw/b_profile/cust_picture/2885/130000000032885/env/s_890328564412224936.jpg?v=20210805195043', 'link': 'https://static.104.com.tw/b_profile/cust_picture/2885/130000000032885/env/l_890328564412224936.jpg?v=20210805195043', 'description': ''}, {'thumbnailLink': 'https://static.104.com.tw/b_profile/cust_picture/2885/130000000032885/env/s_890328564412224937.jpg?v=20210805195043', 'link': 'https://static.104.com.tw/b_profile/cust_picture/2885/130000000032885/env/l_890328564412224937.jpg?v=20210805195043', 'description': ''}], 'corpImageBottom': {'imageUrl': '', 'link': ''}}, 'condition': {'acceptRole': {'role': [{'code': 1, 'description': '上班族'}], 'disRole': {'needHandicapCompendium': False, 'disability': []}}, 'workExp': '5年以上', 'edu': '大學以上', 'major': ['數理統計相關', '資訊工程相關', '其他商業及管理相關'], 'language': [], 'localLanguage': [], 'specialty': [], 'skill': [{'code': '11004001008', 'description': '建立統計精算模型'}, {'code': '11005004004', 'description': '統計軟體操作'}, {'code': '11005004007', 'description': '調查樣本統計分析'}], 'certificate': [], 'driverLicense': [], 'other': '期望能力:\\n\\uf06c熟悉CDP data Flow\\n\\uf06c熟悉GA, GTM, google sheet, Excel\\n\\uf06c溝通能力強，能與分析師、IT、行銷人員及廣告優化師緊密合作，達成客戶商業階段目標\\n\\uf06c組織能力強，能規劃與維護受眾分析與消費者旅程設計，且能控制專案時間\\t\\n\\uf06c具備數據視覺化能力(例如 data studio或power BI、圖表等 )\\t\\n\\uf06c注重細節，能驗證數據及找出差異\\t\\n\\uf06c能快速學習新產品，熱愛解決複雜問題\\t\\n\\n加分條件:\\t\\n\\uf06c擁有網站分析經驗，並擅長第三方分析工具 (SimilarWeb, OpView, Google Trend, VWO 等) \\t\\n\\uf06c在CRM領域超過1年以上經驗/具備廣告運作知識或經驗\\t\\n\\uf06c英語讀寫能力\\t\\n\\uf06c了解SQL/ Python/ HTML/ Javascript\\t\\n'}, 'welfare': {'tag': ['年終獎金', '三節獎金/禮品', '生活工作諮詢', '結婚禮金', '優於勞基法特休', '員工團體保險'], 'welfare': '員工旅遊\\n員工教育訓練\\n團保', 'legalTag': ['週休二日', '勞保', '健保', '勞退提撥金', '員工體檢']}, 'jobDetail': {'jobDescription': '透過常見受眾數據工具或平台，依照資料屬性、受眾行為、活動行銷目的，細分不同受眾群，提供行銷洞察、建立個人化受眾旅程、與成效監控、維護。\\n\\n職務內容:\\n\\uf06c了解資料收集與標記的運作邏輯，進行規劃、蒐集分析需求，並提供受眾行銷洞察\\n\\uf06c針對品牌行銷痛點，提供對應的分析報告；根據結果，規劃跨部門/跨領域的解決方案與可落地的測試計畫 (Tracking Design/Media Strategy/CRO/Marketing Automation)\\n\\uf06c提供行銷漏斗洞察，優化消費者旅程設計，並監測KPI的衡量指標與達成狀況\\n\\uf06c與媒體執行團隊合作，針對活動目的(如註冊/購買/名單等)，提出可行的受眾行銷解決方案，實際應用到自媒體或付費媒體廣告活動\\n', 'jobCategory': [{'code': '2004001010', 'description': '市場調查／市場分析'}, {'code': '2004001005', 'description': '行銷企劃人員'}, {'code': '2004001007', 'description': '網站行銷企劃'}], 'salary': '待遇面議', 'salaryMin': 0, 'salaryMax': 0, 'salaryType': 10, 'jobType': 1, 'workType': [], 'addressNo': '6001001007', 'addressRegion': '台北市信義區', 'addressDetail': '松仁路100號10樓', 'industryArea': '', 'longitude': '121.5679847', 'latitude': '25.0344071', 'manageResp': '不需負擔管理責任', 'businessTrip': '無需出差外派', 'workPeriod': '日班', 'vacationPolicy': '依公司規定', 'startWorkingDay': '不限', 'hireType': 0, 'delegatedRecruit': '', 'needEmp': '1人', 'landmark': '距捷運象山站280公尺', 'remoteWork': None}, 'switch': 'on', 'custLogo': 'https://static.104.com.tw/b_profile/cust_picture/2885/130000000032885/logo.jpg?v=20210805195043', 'postalCode': '110', 'closeDate': '', 'industry': '網際網路相關業', 'custNo': '130000000032885', 'reportUrl': 'https://www.104.com.tw/question_admin/reaction.cfm?j=547446713c704d255a3640693c323a6313c3e466f383a426b40463e21212121664494e602a47j52', 'industryNo': '1001001003', 'employees': '120人', 'chinaCorp': False}, 'metadata': {'enableHTML': False, 'hiddenBanner': False}}\n"
     ]
    }
   ],
   "source": [
    "print(all_content)"
   ]
  },
  {
   "cell_type": "markdown",
   "id": "3c5b5e16",
   "metadata": {},
   "source": [
    "# 取得工作內容，也可以透過此種方式取得其他內容"
   ]
  },
  {
   "cell_type": "code",
   "execution_count": 16,
   "id": "f6083df4",
   "metadata": {
    "ExecuteTime": {
     "end_time": "2021-10-29T15:23:29.763361Z",
     "start_time": "2021-10-29T15:23:29.751453Z"
    }
   },
   "outputs": [],
   "source": [
    "#觀察 Fetch/XHR 中的 hidden code的 Preview，尋找想要得到的內容\n",
    "job_content = all_content['data']['jobDetail']['jobDescription']"
   ]
  },
  {
   "cell_type": "code",
   "execution_count": 17,
   "id": "b06e52c4",
   "metadata": {
    "ExecuteTime": {
     "end_time": "2021-10-29T15:23:34.747571Z",
     "start_time": "2021-10-29T15:23:34.733592Z"
    }
   },
   "outputs": [
    {
     "name": "stdout",
     "output_type": "stream",
     "text": [
      "透過常見受眾數據工具或平台，依照資料屬性、受眾行為、活動行銷目的，細分不同受眾群，提供行銷洞察、建立個人化受眾旅程、與成效監控、維護。\n",
      "\n",
      "職務內容:\n",
      "了解資料收集與標記的運作邏輯，進行規劃、蒐集分析需求，並提供受眾行銷洞察\n",
      "針對品牌行銷痛點，提供對應的分析報告；根據結果，規劃跨部門/跨領域的解決方案與可落地的測試計畫 (Tracking Design/Media Strategy/CRO/Marketing Automation)\n",
      "提供行銷漏斗洞察，優化消費者旅程設計，並監測KPI的衡量指標與達成狀況\n",
      "與媒體執行團隊合作，針對活動目的(如註冊/購買/名單等)，提出可行的受眾行銷解決方案，實際應用到自媒體或付費媒體廣告活動\n",
      "\n"
     ]
    }
   ],
   "source": [
    "print(job_content)"
   ]
  },
  {
   "cell_type": "code",
   "execution_count": null,
   "id": "7a3c9db0",
   "metadata": {},
   "outputs": [],
   "source": []
  }
 ],
 "metadata": {
  "kernelspec": {
   "display_name": "parsering",
   "language": "python",
   "name": "parsering"
  },
  "language_info": {
   "codemirror_mode": {
    "name": "ipython",
    "version": 3
   },
   "file_extension": ".py",
   "mimetype": "text/x-python",
   "name": "python",
   "nbconvert_exporter": "python",
   "pygments_lexer": "ipython3",
   "version": "3.9.7"
  }
 },
 "nbformat": 4,
 "nbformat_minor": 5
}
